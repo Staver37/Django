{
 "cells": [
  {
   "cell_type": "markdown",
   "metadata": {},
   "source": [
    "# eroare la e shop se duce quantiyt in ninus"
   ]
  },
  {
   "cell_type": "markdown",
   "metadata": {},
   "source": [
    "\n",
    "# Basics of Django\n",
    "> a high-level Python web framework that encouranges rapid developement and clean,pragmatic design"
   ]
  },
  {
   "cell_type": "markdown",
   "metadata": {},
   "source": [
    "###           FRAMEWORKS\n",
    "###          Python FRAMEWORK\n",
    "#### Django framework site\n",
    "https://www.djangoproject.com/\n",
    "#### turbogears ramework site\n",
    "https://turbogears.org/\n",
    "#### WEB2PY\n",
    "http://www.web2py.com/\n",
    "#### FLASK\n",
    "https://flask.palletsprojects.com/en/2.2.x/\n",
    "###         PHP FRAMEWORK\n",
    "#### Laravel\n",
    "https://laravel.com/\n",
    "###         JAVA FRAMEWORK \n",
    "#### SPRING\n",
    "https://spring.io/\n"
   ]
  },
  {
   "cell_type": "markdown",
   "metadata": {},
   "source": [
    "## pros\n",
    "* rapid delelopment\n",
    "* secure\n",
    "* scalable\n",
    "* flexible\n",
    "* many features / modules\n",
    "\n",
    "check Django DRF (DJANGO REST FRAMEWORK) - > orientat mai mult pe API  "
   ]
  },
  {
   "cell_type": "markdown",
   "metadata": {},
   "source": [
    "### structure\n",
    "> Django is an MVT approach\n",
    "<br>\n",
    "\n",
    "<img src=\"img1.png\" style=\"width:900px;height 900px\"/>\n",
    "\n",
    "\n",
    "\n"
   ]
  },
  {
   "cell_type": "markdown",
   "metadata": {},
   "source": [
    "### Tools\n",
    "* django-admin\n",
    "* manage.py"
   ]
  },
  {
   "cell_type": "markdown",
   "metadata": {},
   "source": [
    "### Start work with Django\n",
    "#### In terminal Create virtual enviretment ( datoria la aceasta toate schimbarile facute va fi reflectate asupra proectului  nu in intreg OS )\n",
    "\n",
    "Create virtual enviretment\n",
    "\n",
    "* sudo chmod -R 777\n",
    "* Password:\n",
    "* python3 -m venv venv\n",
    "* source venv/bin/activate\n",
    "\n",
    "instal django\n",
    "\n",
    "* python -m pip install Django\n",
    "* import django\n",
    "* print (django.get_version())\n",
    "\n",
    "Check if have instal the django-admin \n",
    "\n",
    "* django-admin      (here shows all Available subcommands to admin )\n",
    "\n",
    "### Crreate NewProject \n",
    "* django-admin startproject shop    -------> (creaza un folder (shop) radacina pentru aplicatia WEB din motiv ca automat se mai creeaza un subfolder cu aceias denumire redenumim Folderul principal manual)\n",
    "\n",
    "* python3 app/manage.py  ----------->(here shows all Available subcommands to manage ) \n",
    "### ---------->( run server Command )\n",
    "* python3 app/manage.py runserver   \n",
    "python3 app/manage.py runserver"
   ]
  },
  {
   "cell_type": "markdown",
   "metadata": {},
   "source": [
    "## Using Django's ORM (SQL Alchemy)\n",
    "* model\n",
    "* fields\n",
    "* migrations\n",
    "* CRUD\n",
    "* relations"
   ]
  },
  {
   "cell_type": "markdown",
   "metadata": {},
   "source": [
    "## Let's define our e-shop models\n",
    "\n",
    "* Product"
   ]
  },
  {
   "cell_type": "markdown",
   "metadata": {},
   "source": [
    "Django don't connect with DB need instal the adaptor: pscopg2 2.9.3\n",
    "\n",
    "pip install psycopg2-binary"
   ]
  },
  {
   "cell_type": "markdown",
   "metadata": {},
   "source": [
    "## migrations\n",
    "\n",
    "    \"\n",
    "        python3 e-shop/manage.py showmigrations   <---------Arata functile pentru migrate\n",
    "        <go/e-shop/manage.py makemigrations shop <--- Changes\n",
    "        python3 e-shop/manage.py migrate         <----------Creaza migrarile defalt django\n",
    "\n",
    "    \"\n",
    "    \n",
    "* Migration link:https://docs.djangoproject.com/en/4.1/topics/migrations/\n",
    "\n"
   ]
  },
  {
   "cell_type": "markdown",
   "metadata": {},
   "source": [
    "Create models.py \n",
    "<br>\n",
    "link models: https://docs.djangoproject.com/en/4.1/topics/db/models/\n",
    "<br>\n",
    "python3 app/manage.py makemigrations"
   ]
  },
  {
   "cell_type": "markdown",
   "metadata": {},
   "source": [
    "## Retrieving objects from DB\n",
    "* https://docs.djangoproject.com/en/4.1/topics/db/queries/"
   ]
  },
  {
   "cell_type": "markdown",
   "metadata": {},
   "source": [
    "## cycle\n",
    "* https://docs.djangoproject.com/en/4.1/ref/templates/builtins/"
   ]
  },
  {
   "cell_type": "markdown",
   "metadata": {},
   "source": [
    "1. python3 app/manage.py makemigrations --name shop\n",
    "2. python3 app/manage.py migrate"
   ]
  },
  {
   "cell_type": "markdown",
   "metadata": {},
   "source": [
    "# Fake store \n",
    "* pip3 install requests\n",
    "\n",
    "https://pypi.org/project/requests/"
   ]
  },
  {
   "cell_type": "markdown",
   "metadata": {},
   "source": [
    "# Test Run\n",
    "    \"                \n",
    "         python3 /Users/adrian/Desktop/PY-PROJECTS/Django/e-shop/manage.py  test shop --keepdb\n",
    "    \""
   ]
  },
  {
   "cell_type": "markdown",
   "metadata": {},
   "source": [
    "CSRF protection\n",
    "https://docs.djangoproject.com/en/4.1/howto/csrf/"
   ]
  },
  {
   "cell_type": "markdown",
   "metadata": {},
   "source": [
    "# Paymet\n",
    "\n",
    "https://stripe.com/docs/api?lang\n",
    "\n",
    "* pip install stripe\n",
    "* https://stripe.com/docs/checkout/quickstart (Custom payment flow)\n",
    "* create 2 files in static ant py file make for order-confirm.py\n",
    "* * checkout.css     >https://stripe.com/docs/payments/quickstart< copy the logic in this fille     CSS\n",
    "* * checkout.js      >https://stripe.com/docs/payments/quickstart< copy the logic in this fille     JS\n",
    "* * in order-confirm.py >https://stripe.com/docs/payments/quickstart< copy the logic in this fille  HTML here redirect the adress for next 2 filles > \n",
    "* * > it is a flask logic must to bee rewrited for django logic\n",
    "* * > create CSRF in HTML file\n",
    "* * >@csrf_exempt # < --- dezactivte csrf  for the logic in view.py\n",
    "* in URLS.py     create the path----->  path('/create-payment-intent',CreatePaymentIntent),   \n",
    "* create ne page payment-comleted.html and redirect in JS file to this page\n",
    "\n",
    "\n",
    "        \"\"\" \n",
    "                        PAYMENT METHOD\n",
    "\n",
    "        1.                       /order-confirm--------->FRONTEND(html,js)\n",
    "        2.              BACKEND (py)  <----------------------JS                     \n",
    "                        CreatePaymentIntent() \n",
    "                                \\------------------>stripe API() stripe.PaymentIntent.create() ---> SRIPE API\n",
    "                            intent  <------------------------------------------------ response -----/\n",
    "                            intent.clientSecret ------------> JS\n",
    "                                                                |\n",
    "                                                            Payment Form\n",
    "                                                                \\---------------------> finalize payment\n",
    "                                        payment-completed <---redirect  <------------------------/\n",
    "                                        |        \n",
    "                                        V     \n",
    "                                        show success message\n",
    "                                        delete the bag\n",
    "                                        send confirmation email\n",
    "                                                \n",
    "                                                \n",
    "        \"\"\"\n",
    "\n"
   ]
  },
  {
   "cell_type": "markdown",
   "metadata": {},
   "source": [
    "# Contacts Email\n",
    "\n",
    "https://www.youtube.com/watch?v=TZL-WFzvDJg"
   ]
  },
  {
   "cell_type": "markdown",
   "metadata": {},
   "source": [
    "##  Django  E-shop, Product IMAGE quality validation\n",
    "https://docs.djangoproject.com/en/4.1/topics/http/file-uploads/\n",
    "\n",
    "        GET  /admin/product/add/form      browser\n",
    "    \n",
    "    e-shop -------------------------------->\n",
    "                                            [FROM]\n",
    "                                            name input\n",
    "                                            price input\n",
    "                                            ......\n",
    "                                            image input\n",
    "                                            ......\n",
    "        POST /admin/product/add/submit\n",
    "            <-----------------------------------\n",
    "            data - request.POST\n",
    "            file - request.FILE\n",
    "\n",
    "    if image valid -> save -> redirect  ----> catalog page\n",
    "    else              error -> redirect ----> form"
   ]
  },
  {
   "cell_type": "markdown",
   "metadata": {},
   "source": [
    "# Costom Admin\n",
    "https://www.youtube.com/watch?v=a9F_fN6pGyo&t=11s"
   ]
  }
 ],
 "metadata": {
  "kernelspec": {
   "display_name": "Python 3.10.8 64-bit",
   "language": "python",
   "name": "python3"
  },
  "language_info": {
   "name": "python",
   "version": "3.10.8"
  },
  "orig_nbformat": 4,
  "vscode": {
   "interpreter": {
    "hash": "aee8b7b246df8f9039afb4144a1f6fd8d2ca17a180786b69acc140d282b71a49"
   }
  }
 },
 "nbformat": 4,
 "nbformat_minor": 2
}
