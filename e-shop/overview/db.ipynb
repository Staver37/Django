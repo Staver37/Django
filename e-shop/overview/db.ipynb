{
 "cells": [
  {
   "cell_type": "markdown",
   "metadata": {},
   "source": [
    "# Database Reference\n",
    "* primary key\n",
    "* foreign key\n",
    "* parent / child\n",
    "* cascading delete / Uptates\n",
    "* orphans \n",
    "\n",
    "<img src=\"img1.drawio.svg\">\n",
    "\n",
    "<img src=\"img2.drawio.svg\">\n",
    "\n"
   ]
  },
  {
   "cell_type": "markdown",
   "metadata": {},
   "source": [
    "# NEXT Tasks\n",
    "1. PUBLISHED THIS E-SHOP\n",
    "2. REDIRECT http TO https\n",
    "3. Stylized the templates\n",
    "4. creating the email host ( https://www.youtube.com/watch?v=8G93NVWkXZk&t=20s )\n",
    "5. Create admin page w post new produce posibility"
   ]
  }
 ],
 "metadata": {
  "kernelspec": {
   "display_name": "Python 3.10.4 64-bit",
   "language": "python",
   "name": "python3"
  },
  "language_info": {
   "name": "python",
   "version": "3.10.8"
  },
  "orig_nbformat": 4,
  "vscode": {
   "interpreter": {
    "hash": "aee8b7b246df8f9039afb4144a1f6fd8d2ca17a180786b69acc140d282b71a49"
   }
  }
 },
 "nbformat": 4,
 "nbformat_minor": 2
}
